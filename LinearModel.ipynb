{
 "cells": [
  {
   "cell_type": "code",
   "execution_count": 90,
   "metadata": {},
   "outputs": [
    {
     "name": "stdout",
     "output_type": "stream",
     "text": [
      "1.9.0\n",
      "1.19.3\n",
      "The nb_black extension is already loaded. To reload it, use:\n",
      "  %reload_ext nb_black\n"
     ]
    },
    {
     "data": {
      "application/javascript": [
       "\n",
       "            setTimeout(function() {\n",
       "                var nbb_cell_id = 90;\n",
       "                var nbb_unformatted_code = \"import numpy as np\\nimport torch\\nimport torch.nn as nn\\nimport torch.optim as optim\\nimport matplotlib.pyplot as plt\\nimport pandas as pd\\nimport os\\nfrom sklearn.preprocessing import MinMaxScaler\\n\\nprint(torch.__version__)\\nprint(np.__version__)\\n\\n%load_ext nb_black\";\n",
       "                var nbb_formatted_code = \"import numpy as np\\nimport torch\\nimport torch.nn as nn\\nimport torch.optim as optim\\nimport matplotlib.pyplot as plt\\nimport pandas as pd\\nimport os\\nfrom sklearn.preprocessing import MinMaxScaler\\n\\nprint(torch.__version__)\\nprint(np.__version__)\\n\\n%load_ext nb_black\";\n",
       "                var nbb_cells = Jupyter.notebook.get_cells();\n",
       "                for (var i = 0; i < nbb_cells.length; ++i) {\n",
       "                    if (nbb_cells[i].input_prompt_number == nbb_cell_id) {\n",
       "                        if (nbb_cells[i].get_text() == nbb_unformatted_code) {\n",
       "                             nbb_cells[i].set_text(nbb_formatted_code);\n",
       "                        }\n",
       "                        break;\n",
       "                    }\n",
       "                }\n",
       "            }, 500);\n",
       "            "
      ],
      "text/plain": [
       "<IPython.core.display.Javascript object>"
      ]
     },
     "metadata": {},
     "output_type": "display_data"
    }
   ],
   "source": [
    "import numpy as np\n",
    "import torch\n",
    "import torch.nn as nn\n",
    "import torch.optim as optim\n",
    "import matplotlib.pyplot as plt\n",
    "import pandas as pd\n",
    "import os\n",
    "from sklearn.preprocessing import MinMaxScaler\n",
    "\n",
    "print(torch.__version__)\n",
    "print(np.__version__)\n",
    "\n",
    "%load_ext nb_black"
   ]
  },
  {
   "cell_type": "code",
   "execution_count": 145,
   "metadata": {},
   "outputs": [
    {
     "data": {
      "application/javascript": [
       "\n",
       "            setTimeout(function() {\n",
       "                var nbb_cell_id = 145;\n",
       "                var nbb_unformatted_code = \"parent_path = os.path.join(os.getcwd())\\n\\ntrain_df = pd.read_csv(f\\\"{parent_path}/temperature/training.csv\\\")\\ntest_df = pd.read_csv(f\\\"{parent_path}/temperature/testing.csv\\\")\";\n",
       "                var nbb_formatted_code = \"parent_path = os.path.join(os.getcwd())\\n\\ntrain_df = pd.read_csv(f\\\"{parent_path}/temperature/training.csv\\\")\\ntest_df = pd.read_csv(f\\\"{parent_path}/temperature/testing.csv\\\")\";\n",
       "                var nbb_cells = Jupyter.notebook.get_cells();\n",
       "                for (var i = 0; i < nbb_cells.length; ++i) {\n",
       "                    if (nbb_cells[i].input_prompt_number == nbb_cell_id) {\n",
       "                        if (nbb_cells[i].get_text() == nbb_unformatted_code) {\n",
       "                             nbb_cells[i].set_text(nbb_formatted_code);\n",
       "                        }\n",
       "                        break;\n",
       "                    }\n",
       "                }\n",
       "            }, 500);\n",
       "            "
      ],
      "text/plain": [
       "<IPython.core.display.Javascript object>"
      ]
     },
     "metadata": {},
     "output_type": "display_data"
    }
   ],
   "source": [
    "parent_path = os.path.join(os.getcwd())\n",
    "\n",
    "train_df = pd.read_csv(f\"{parent_path}/temperature/training.csv\")\n",
    "test_df = pd.read_csv(f\"{parent_path}/temperature/testing.csv\")"
   ]
  },
  {
   "cell_type": "code",
   "execution_count": 132,
   "metadata": {},
   "outputs": [
    {
     "data": {
      "text/html": [
       "<div>\n",
       "<style scoped>\n",
       "    .dataframe tbody tr th:only-of-type {\n",
       "        vertical-align: middle;\n",
       "    }\n",
       "\n",
       "    .dataframe tbody tr th {\n",
       "        vertical-align: top;\n",
       "    }\n",
       "\n",
       "    .dataframe thead th {\n",
       "        text-align: right;\n",
       "    }\n",
       "</style>\n",
       "<table border=\"1\" class=\"dataframe\">\n",
       "  <thead>\n",
       "    <tr style=\"text-align: right;\">\n",
       "      <th></th>\n",
       "      <th>Celsius</th>\n",
       "      <th>Fahrenheit</th>\n",
       "    </tr>\n",
       "  </thead>\n",
       "  <tbody>\n",
       "    <tr>\n",
       "      <th>0</th>\n",
       "      <td>259</td>\n",
       "      <td>NaN</td>\n",
       "    </tr>\n",
       "    <tr>\n",
       "      <th>1</th>\n",
       "      <td>2351</td>\n",
       "      <td>NaN</td>\n",
       "    </tr>\n",
       "    <tr>\n",
       "      <th>2</th>\n",
       "      <td>2112</td>\n",
       "      <td>NaN</td>\n",
       "    </tr>\n",
       "    <tr>\n",
       "      <th>3</th>\n",
       "      <td>2239</td>\n",
       "      <td>NaN</td>\n",
       "    </tr>\n",
       "    <tr>\n",
       "      <th>4</th>\n",
       "      <td>1016</td>\n",
       "      <td>NaN</td>\n",
       "    </tr>\n",
       "    <tr>\n",
       "      <th>...</th>\n",
       "      <td>...</td>\n",
       "      <td>...</td>\n",
       "    </tr>\n",
       "    <tr>\n",
       "      <th>7995</th>\n",
       "      <td>1147</td>\n",
       "      <td>NaN</td>\n",
       "    </tr>\n",
       "    <tr>\n",
       "      <th>7996</th>\n",
       "      <td>567</td>\n",
       "      <td>NaN</td>\n",
       "    </tr>\n",
       "    <tr>\n",
       "      <th>7997</th>\n",
       "      <td>2367</td>\n",
       "      <td>NaN</td>\n",
       "    </tr>\n",
       "    <tr>\n",
       "      <th>7998</th>\n",
       "      <td>685</td>\n",
       "      <td>NaN</td>\n",
       "    </tr>\n",
       "    <tr>\n",
       "      <th>7999</th>\n",
       "      <td>1376</td>\n",
       "      <td>NaN</td>\n",
       "    </tr>\n",
       "  </tbody>\n",
       "</table>\n",
       "<p>8000 rows × 2 columns</p>\n",
       "</div>"
      ],
      "text/plain": [
       "      Celsius  Fahrenheit\n",
       "0         259         NaN\n",
       "1        2351         NaN\n",
       "2        2112         NaN\n",
       "3        2239         NaN\n",
       "4        1016         NaN\n",
       "...       ...         ...\n",
       "7995     1147         NaN\n",
       "7996      567         NaN\n",
       "7997     2367         NaN\n",
       "7998      685         NaN\n",
       "7999     1376         NaN\n",
       "\n",
       "[8000 rows x 2 columns]"
      ]
     },
     "execution_count": 132,
     "metadata": {},
     "output_type": "execute_result"
    },
    {
     "data": {
      "application/javascript": [
       "\n",
       "            setTimeout(function() {\n",
       "                var nbb_cell_id = 132;\n",
       "                var nbb_unformatted_code = \"test_df\";\n",
       "                var nbb_formatted_code = \"test_df\";\n",
       "                var nbb_cells = Jupyter.notebook.get_cells();\n",
       "                for (var i = 0; i < nbb_cells.length; ++i) {\n",
       "                    if (nbb_cells[i].input_prompt_number == nbb_cell_id) {\n",
       "                        if (nbb_cells[i].get_text() == nbb_unformatted_code) {\n",
       "                             nbb_cells[i].set_text(nbb_formatted_code);\n",
       "                        }\n",
       "                        break;\n",
       "                    }\n",
       "                }\n",
       "            }, 500);\n",
       "            "
      ],
      "text/plain": [
       "<IPython.core.display.Javascript object>"
      ]
     },
     "metadata": {},
     "output_type": "display_data"
    }
   ],
   "source": [
    "test_df"
   ]
  },
  {
   "cell_type": "code",
   "execution_count": 111,
   "metadata": {},
   "outputs": [
    {
     "data": {
      "application/javascript": [
       "\n",
       "            setTimeout(function() {\n",
       "                var nbb_cell_id = 111;\n",
       "                var nbb_unformatted_code = \"def print_model_summary(linear_model):\\n    print(f\\\"Weight: {linear_model.weight.item()}\\\")\\n    print(f\\\"Bias: {linear_model.bias.item()}\\\")\\n    return round(linear_model.weight.item()), round(linear_model.bias.item())\";\n",
       "                var nbb_formatted_code = \"def print_model_summary(linear_model):\\n    print(f\\\"Weight: {linear_model.weight.item()}\\\")\\n    print(f\\\"Bias: {linear_model.bias.item()}\\\")\\n    return round(linear_model.weight.item()), round(linear_model.bias.item())\";\n",
       "                var nbb_cells = Jupyter.notebook.get_cells();\n",
       "                for (var i = 0; i < nbb_cells.length; ++i) {\n",
       "                    if (nbb_cells[i].input_prompt_number == nbb_cell_id) {\n",
       "                        if (nbb_cells[i].get_text() == nbb_unformatted_code) {\n",
       "                             nbb_cells[i].set_text(nbb_formatted_code);\n",
       "                        }\n",
       "                        break;\n",
       "                    }\n",
       "                }\n",
       "            }, 500);\n",
       "            "
      ],
      "text/plain": [
       "<IPython.core.display.Javascript object>"
      ]
     },
     "metadata": {},
     "output_type": "display_data"
    }
   ],
   "source": [
    "def print_model_summary(linear_model):\n",
    "    print(f\"Weight: {linear_model.weight.item()}\")\n",
    "    print(f\"Bias: {linear_model.bias.item()}\")\n",
    "    return round(linear_model.weight.item()), round(linear_model.bias.item())"
   ]
  },
  {
   "cell_type": "code",
   "execution_count": 93,
   "metadata": {},
   "outputs": [
    {
     "data": {
      "text/plain": [
       "(torch.Size([16000, 1]), torch.Size([16000, 1]))"
      ]
     },
     "execution_count": 93,
     "metadata": {},
     "output_type": "execute_result"
    },
    {
     "data": {
      "application/javascript": [
       "\n",
       "            setTimeout(function() {\n",
       "                var nbb_cell_id = 93;\n",
       "                var nbb_unformatted_code = \"# Convert 1-D tensors' t_c and t_u into a matrix of size samples * features. (Samples = 11 and features = 1)\\n\\nt_c = torch.tensor(\\n    train_df[\\\"Celsius\\\"],\\n    requires_grad=True,\\n    dtype=torch.float32,\\n).unsqueeze(1)\\nt_f = torch.tensor(\\n    train_df[\\\"Fahrenheit\\\"],\\n    requires_grad=True,\\n    dtype=torch.float32,\\n).unsqueeze(1)\\n\\nt_c.shape, t_f.shape\";\n",
       "                var nbb_formatted_code = \"# Convert 1-D tensors' t_c and t_u into a matrix of size samples * features. (Samples = 11 and features = 1)\\n\\nt_c = torch.tensor(\\n    train_df[\\\"Celsius\\\"],\\n    requires_grad=True,\\n    dtype=torch.float32,\\n).unsqueeze(1)\\nt_f = torch.tensor(\\n    train_df[\\\"Fahrenheit\\\"],\\n    requires_grad=True,\\n    dtype=torch.float32,\\n).unsqueeze(1)\\n\\nt_c.shape, t_f.shape\";\n",
       "                var nbb_cells = Jupyter.notebook.get_cells();\n",
       "                for (var i = 0; i < nbb_cells.length; ++i) {\n",
       "                    if (nbb_cells[i].input_prompt_number == nbb_cell_id) {\n",
       "                        if (nbb_cells[i].get_text() == nbb_unformatted_code) {\n",
       "                             nbb_cells[i].set_text(nbb_formatted_code);\n",
       "                        }\n",
       "                        break;\n",
       "                    }\n",
       "                }\n",
       "            }, 500);\n",
       "            "
      ],
      "text/plain": [
       "<IPython.core.display.Javascript object>"
      ]
     },
     "metadata": {},
     "output_type": "display_data"
    }
   ],
   "source": [
    "# Convert 1-D tensors' t_c and t_u into a matrix of size samples * features. (Samples = 11 and features = 1)\n",
    "\n",
    "t_c = torch.tensor(\n",
    "    train_df[\"Celsius\"],\n",
    "    requires_grad=True,\n",
    "    dtype=torch.float32,\n",
    ").unsqueeze(1)\n",
    "t_f = torch.tensor(\n",
    "    train_df[\"Fahrenheit\"],\n",
    "    requires_grad=True,\n",
    "    dtype=torch.float32,\n",
    ").unsqueeze(1)\n",
    "\n",
    "t_c.shape, t_f.shape"
   ]
  },
  {
   "cell_type": "code",
   "execution_count": 94,
   "metadata": {},
   "outputs": [
    {
     "data": {
      "text/plain": [
       "[{'params': [Parameter containing:\n",
       "   tensor([[0.8624]], requires_grad=True),\n",
       "   Parameter containing:\n",
       "   tensor([0.4895], requires_grad=True)],\n",
       "  'lr': 0.01,\n",
       "  'momentum': 0,\n",
       "  'dampening': 0,\n",
       "  'weight_decay': 0,\n",
       "  'nesterov': False}]"
      ]
     },
     "execution_count": 94,
     "metadata": {},
     "output_type": "execute_result"
    },
    {
     "data": {
      "application/javascript": [
       "\n",
       "            setTimeout(function() {\n",
       "                var nbb_cell_id = 94;\n",
       "                var nbb_unformatted_code = \"# Create a optimizer for linear model to learn the differences in temperature\\nlinear_model = nn.Linear(1, 1)\\n\\noptimizer = optim.SGD(linear_model.parameters(), lr=0.01)\\noptimizer.param_groups\";\n",
       "                var nbb_formatted_code = \"# Create a optimizer for linear model to learn the differences in temperature\\nlinear_model = nn.Linear(1, 1)\\n\\noptimizer = optim.SGD(linear_model.parameters(), lr=0.01)\\noptimizer.param_groups\";\n",
       "                var nbb_cells = Jupyter.notebook.get_cells();\n",
       "                for (var i = 0; i < nbb_cells.length; ++i) {\n",
       "                    if (nbb_cells[i].input_prompt_number == nbb_cell_id) {\n",
       "                        if (nbb_cells[i].get_text() == nbb_unformatted_code) {\n",
       "                             nbb_cells[i].set_text(nbb_formatted_code);\n",
       "                        }\n",
       "                        break;\n",
       "                    }\n",
       "                }\n",
       "            }, 500);\n",
       "            "
      ],
      "text/plain": [
       "<IPython.core.display.Javascript object>"
      ]
     },
     "metadata": {},
     "output_type": "display_data"
    }
   ],
   "source": [
    "# Create a optimizer for linear model to learn the differences in temperature\n",
    "linear_model = nn.Linear(1, 1)\n",
    "\n",
    "optimizer = optim.SGD(linear_model.parameters(), lr=0.01)\n",
    "optimizer.param_groups"
   ]
  },
  {
   "cell_type": "code",
   "execution_count": 96,
   "metadata": {},
   "outputs": [
    {
     "data": {
      "application/javascript": [
       "\n",
       "            setTimeout(function() {\n",
       "                var nbb_cell_id = 96;\n",
       "                var nbb_unformatted_code = \"# Create a training loop for training linear_model\\n\\n\\ndef training_loop(\\n    n_epochs, optimizer, model, loss_fn, t_c_train, t_f_train, t_c_val, t_f_val\\n):\\n    for epoch in range(1, n_epochs + 1):\\n        t_p_train = model(t_c_train)\\n        loss_train = loss_fn(t_p_train, t_f_train)\\n\\n        t_p_val = model(t_c_val)\\n        loss_val = loss_fn(t_p_val, t_f_val)\\n\\n        optimizer.zero_grad()\\n        loss_train.backward(retain_graph=True)\\n        optimizer.step()\\n\\n        if epoch == 1 or epoch % 100 == 0:\\n            print(\\n                \\\"Epoch %d, Training loss %.4f, Validation loss %.4f\\\"\\n                % (epoch, float(loss_train), float(loss_val))\\n            )\";\n",
       "                var nbb_formatted_code = \"# Create a training loop for training linear_model\\n\\n\\ndef training_loop(\\n    n_epochs, optimizer, model, loss_fn, t_c_train, t_f_train, t_c_val, t_f_val\\n):\\n    for epoch in range(1, n_epochs + 1):\\n        t_p_train = model(t_c_train)\\n        loss_train = loss_fn(t_p_train, t_f_train)\\n\\n        t_p_val = model(t_c_val)\\n        loss_val = loss_fn(t_p_val, t_f_val)\\n\\n        optimizer.zero_grad()\\n        loss_train.backward(retain_graph=True)\\n        optimizer.step()\\n\\n        if epoch == 1 or epoch % 100 == 0:\\n            print(\\n                \\\"Epoch %d, Training loss %.4f, Validation loss %.4f\\\"\\n                % (epoch, float(loss_train), float(loss_val))\\n            )\";\n",
       "                var nbb_cells = Jupyter.notebook.get_cells();\n",
       "                for (var i = 0; i < nbb_cells.length; ++i) {\n",
       "                    if (nbb_cells[i].input_prompt_number == nbb_cell_id) {\n",
       "                        if (nbb_cells[i].get_text() == nbb_unformatted_code) {\n",
       "                             nbb_cells[i].set_text(nbb_formatted_code);\n",
       "                        }\n",
       "                        break;\n",
       "                    }\n",
       "                }\n",
       "            }, 500);\n",
       "            "
      ],
      "text/plain": [
       "<IPython.core.display.Javascript object>"
      ]
     },
     "metadata": {},
     "output_type": "display_data"
    }
   ],
   "source": [
    "# Create a training loop for training linear_model\n",
    "def training_loop(\n",
    "    n_epochs, optimizer, model, loss_fn, t_c_train, t_f_train, t_c_val, t_f_val\n",
    "):\n",
    "    for epoch in range(1, n_epochs + 1):\n",
    "        t_p_train = model(t_c_train)\n",
    "        loss_train = loss_fn(t_p_train, t_f_train)\n",
    "\n",
    "        t_p_val = model(t_c_val)\n",
    "        loss_val = loss_fn(t_p_val, t_f_val)\n",
    "\n",
    "        optimizer.zero_grad()\n",
    "        loss_train.backward(retain_graph=True)\n",
    "        optimizer.step()\n",
    "\n",
    "        if epoch == 1 or epoch % 100 == 0:\n",
    "            print(\n",
    "                \"Epoch %d, Training loss %.4f, Validation loss %.4f\"\n",
    "                % (epoch, float(loss_train), float(loss_val))\n",
    "            )"
   ]
  },
  {
   "cell_type": "code",
   "execution_count": 97,
   "metadata": {},
   "outputs": [
    {
     "data": {
      "application/javascript": [
       "\n",
       "            setTimeout(function() {\n",
       "                var nbb_cell_id = 97;\n",
       "                var nbb_unformatted_code = \"n_samples = t_u.shape[0]\\nn_val = int(0.2 * n_samples)\\nshuffled_indices = torch.randperm(n_samples)\\n\\ntrain_indices = shuffled_indices[:-n_val]\\nval_indices = shuffled_indices[-n_val:]\";\n",
       "                var nbb_formatted_code = \"n_samples = t_u.shape[0]\\nn_val = int(0.2 * n_samples)\\nshuffled_indices = torch.randperm(n_samples)\\n\\ntrain_indices = shuffled_indices[:-n_val]\\nval_indices = shuffled_indices[-n_val:]\";\n",
       "                var nbb_cells = Jupyter.notebook.get_cells();\n",
       "                for (var i = 0; i < nbb_cells.length; ++i) {\n",
       "                    if (nbb_cells[i].input_prompt_number == nbb_cell_id) {\n",
       "                        if (nbb_cells[i].get_text() == nbb_unformatted_code) {\n",
       "                             nbb_cells[i].set_text(nbb_formatted_code);\n",
       "                        }\n",
       "                        break;\n",
       "                    }\n",
       "                }\n",
       "            }, 500);\n",
       "            "
      ],
      "text/plain": [
       "<IPython.core.display.Javascript object>"
      ]
     },
     "metadata": {},
     "output_type": "display_data"
    }
   ],
   "source": [
    "n_samples = t_u.shape[0]\n",
    "n_val = int(0.2 * n_samples)\n",
    "shuffled_indices = torch.randperm(n_samples)\n",
    "\n",
    "train_indices = shuffled_indices[:-n_val]\n",
    "val_indices = shuffled_indices[-n_val:]"
   ]
  },
  {
   "cell_type": "code",
   "execution_count": 98,
   "metadata": {},
   "outputs": [
    {
     "data": {
      "application/javascript": [
       "\n",
       "            setTimeout(function() {\n",
       "                var nbb_cell_id = 98;\n",
       "                var nbb_unformatted_code = \"# Train\\ntrain_c = t_c[train_indices]\\ntrain_f = t_f[train_indices]\\n\\n# Validation\\nval_c = t_c[val_indices]\\nval_f = t_f[val_indices]\";\n",
       "                var nbb_formatted_code = \"# Train\\ntrain_c = t_c[train_indices]\\ntrain_f = t_f[train_indices]\\n\\n# Validation\\nval_c = t_c[val_indices]\\nval_f = t_f[val_indices]\";\n",
       "                var nbb_cells = Jupyter.notebook.get_cells();\n",
       "                for (var i = 0; i < nbb_cells.length; ++i) {\n",
       "                    if (nbb_cells[i].input_prompt_number == nbb_cell_id) {\n",
       "                        if (nbb_cells[i].get_text() == nbb_unformatted_code) {\n",
       "                             nbb_cells[i].set_text(nbb_formatted_code);\n",
       "                        }\n",
       "                        break;\n",
       "                    }\n",
       "                }\n",
       "            }, 500);\n",
       "            "
      ],
      "text/plain": [
       "<IPython.core.display.Javascript object>"
      ]
     },
     "metadata": {},
     "output_type": "display_data"
    }
   ],
   "source": [
    "# Train\n",
    "train_c = t_c[train_indices]\n",
    "train_f = t_f[train_indices]\n",
    "\n",
    "# Validation\n",
    "val_c = t_c[val_indices]\n",
    "val_f = t_f[val_indices]"
   ]
  },
  {
   "cell_type": "code",
   "execution_count": 108,
   "metadata": {},
   "outputs": [
    {
     "data": {
      "application/javascript": [
       "\n",
       "            setTimeout(function() {\n",
       "                var nbb_cell_id = 108;\n",
       "                var nbb_unformatted_code = \"# Normalize training ONLY\\nx_scaler = MinMaxScaler()\\ny_scaler = MinMaxScaler()\\n\\nn_train_c = torch.from_numpy(x_scaler.fit_transform(train_c.detach().numpy()))\\nn_val_c = torch.from_numpy(y_scaler.fit_transform(val_c.detach().numpy()))\";\n",
       "                var nbb_formatted_code = \"# Normalize training ONLY\\nx_scaler = MinMaxScaler()\\ny_scaler = MinMaxScaler()\\n\\nn_train_c = torch.from_numpy(x_scaler.fit_transform(train_c.detach().numpy()))\\nn_val_c = torch.from_numpy(y_scaler.fit_transform(val_c.detach().numpy()))\";\n",
       "                var nbb_cells = Jupyter.notebook.get_cells();\n",
       "                for (var i = 0; i < nbb_cells.length; ++i) {\n",
       "                    if (nbb_cells[i].input_prompt_number == nbb_cell_id) {\n",
       "                        if (nbb_cells[i].get_text() == nbb_unformatted_code) {\n",
       "                             nbb_cells[i].set_text(nbb_formatted_code);\n",
       "                        }\n",
       "                        break;\n",
       "                    }\n",
       "                }\n",
       "            }, 500);\n",
       "            "
      ],
      "text/plain": [
       "<IPython.core.display.Javascript object>"
      ]
     },
     "metadata": {},
     "output_type": "display_data"
    }
   ],
   "source": [
    "# Normalize training ONLY\n",
    "x_scaler = MinMaxScaler()\n",
    "y_scaler = MinMaxScaler()\n",
    "\n",
    "n_train_c = torch.from_numpy(x_scaler.fit_transform(train_c.detach().numpy()))\n",
    "n_val_c = torch.from_numpy(y_scaler.fit_transform(val_c.detach().numpy()))"
   ]
  },
  {
   "cell_type": "code",
   "execution_count": 109,
   "metadata": {},
   "outputs": [
    {
     "name": "stdout",
     "output_type": "stream",
     "text": [
      "Epoch 1, Training loss 6991742.5000, Validation loss 6796294.5000\n",
      "Epoch 100, Training loss 827341.4375, Validation loss 838368.0000\n",
      "Epoch 200, Training loss 607422.1875, Validation loss 624376.8125\n",
      "Epoch 300, Training loss 466081.0312, Validation loss 479645.1250\n",
      "Epoch 400, Training loss 357749.8750, Validation loss 368197.8438\n",
      "Epoch 500, Training loss 274598.7500, Validation loss 282620.7812\n",
      "Epoch 600, Training loss 210774.3594, Validation loss 216931.9844\n",
      "Epoch 700, Training loss 161784.6094, Validation loss 166511.0469\n",
      "Epoch 800, Training loss 124181.3594, Validation loss 127809.2500\n",
      "Epoch 900, Training loss 95318.2266, Validation loss 98102.8672\n",
      "Epoch 1000, Training loss 73163.7031, Validation loss 75301.1094\n",
      "Epoch 1100, Training loss 56158.5039, Validation loss 57799.1406\n",
      "Epoch 1200, Training loss 43105.6953, Validation loss 44364.9961\n",
      "Epoch 1300, Training loss 33086.8555, Validation loss 34053.4609\n",
      "Epoch 1400, Training loss 25396.5273, Validation loss 26138.4727\n",
      "Epoch 1500, Training loss 19493.6953, Validation loss 20063.1875\n",
      "Epoch 1600, Training loss 14962.8359, Validation loss 15399.9639\n",
      "Epoch 1700, Training loss 11485.0527, Validation loss 11820.5801\n",
      "Epoch 1800, Training loss 8815.6270, Validation loss 9073.1689\n",
      "Epoch 1900, Training loss 6766.6904, Validation loss 6964.3701\n",
      "Epoch 2000, Training loss 5193.9663, Validation loss 5345.7046\n",
      "Epoch 2100, Training loss 3986.7173, Validation loss 4103.1870\n",
      "Epoch 2200, Training loss 3060.0640, Validation loss 3149.4617\n",
      "Epoch 2300, Training loss 2348.8132, Validation loss 2417.4314\n",
      "Epoch 2400, Training loss 1802.8894, Validation loss 1855.5597\n",
      "Epoch 2500, Training loss 1383.8330, Validation loss 1424.2614\n",
      "Epoch 2600, Training loss 1062.2056, Validation loss 1093.2365\n",
      "Epoch 2700, Training loss 815.3212, Validation loss 839.1400\n",
      "Epoch 2800, Training loss 625.8126, Validation loss 644.0952\n",
      "Epoch 2900, Training loss 480.3535, Validation loss 494.3869\n",
      "Epoch 3000, Training loss 368.7071, Validation loss 379.4785\n",
      "Epoch 3100, Training loss 283.0097, Validation loss 291.2773\n",
      "Epoch 3200, Training loss 217.2382, Validation loss 223.5844\n",
      "Epoch 3300, Training loss 166.7466, Validation loss 171.6179\n",
      "Epoch 3400, Training loss 127.9904, Validation loss 131.7295\n",
      "Epoch 3500, Training loss 98.2434, Validation loss 101.1135\n",
      "Epoch 3600, Training loss 75.4053, Validation loss 77.6083\n",
      "Epoch 3700, Training loss 57.8771, Validation loss 59.5681\n",
      "Epoch 3800, Training loss 44.4284, Validation loss 45.7262\n",
      "Epoch 3900, Training loss 34.1028, Validation loss 35.0989\n",
      "Epoch 4000, Training loss 26.1745, Validation loss 26.9393\n",
      "Epoch 4100, Training loss 20.0926, Validation loss 20.6796\n",
      "Epoch 4200, Training loss 15.4235, Validation loss 15.8741\n",
      "Epoch 4300, Training loss 11.8404, Validation loss 12.1863\n",
      "Epoch 4400, Training loss 9.0899, Validation loss 9.3553\n",
      "Epoch 4500, Training loss 6.9765, Validation loss 7.1803\n",
      "Epoch 4600, Training loss 5.3553, Validation loss 5.5118\n",
      "Epoch 4700, Training loss 4.1125, Validation loss 4.2326\n",
      "Epoch 4800, Training loss 3.1561, Validation loss 3.2484\n",
      "Epoch 4900, Training loss 2.4234, Validation loss 2.4942\n",
      "Epoch 5000, Training loss 1.8614, Validation loss 1.9158\n",
      "Epoch 5100, Training loss 1.4307, Validation loss 1.4724\n",
      "Epoch 5200, Training loss 1.0983, Validation loss 1.1304\n",
      "Epoch 5300, Training loss 0.8426, Validation loss 0.8673\n",
      "Epoch 5400, Training loss 0.6479, Validation loss 0.6668\n",
      "Epoch 5500, Training loss 0.4973, Validation loss 0.5120\n",
      "Epoch 5600, Training loss 0.3837, Validation loss 0.3949\n",
      "Epoch 5700, Training loss 0.2961, Validation loss 0.3046\n",
      "Epoch 5800, Training loss 0.2269, Validation loss 0.2335\n",
      "Epoch 5900, Training loss 0.1758, Validation loss 0.1810\n",
      "Epoch 6000, Training loss 0.1350, Validation loss 0.1389\n",
      "Epoch 6100, Training loss 0.1054, Validation loss 0.1084\n",
      "Epoch 6200, Training loss 0.0797, Validation loss 0.0821\n",
      "Epoch 6300, Training loss 0.0629, Validation loss 0.0647\n",
      "Epoch 6400, Training loss 0.0495, Validation loss 0.0509\n",
      "Epoch 6500, Training loss 0.0378, Validation loss 0.0389\n",
      "Epoch 6600, Training loss 0.0280, Validation loss 0.0288\n",
      "Epoch 6700, Training loss 0.0226, Validation loss 0.0232\n",
      "Epoch 6800, Training loss 0.0185, Validation loss 0.0190\n",
      "Epoch 6900, Training loss 0.0149, Validation loss 0.0153\n",
      "Epoch 7000, Training loss 0.0116, Validation loss 0.0120\n",
      "Epoch 7100, Training loss 0.0088, Validation loss 0.0091\n",
      "Epoch 7200, Training loss 0.0064, Validation loss 0.0066\n",
      "Epoch 7300, Training loss 0.0043, Validation loss 0.0045\n",
      "Epoch 7400, Training loss 0.0032, Validation loss 0.0033\n",
      "Epoch 7500, Training loss 0.0026, Validation loss 0.0026\n",
      "Epoch 7600, Training loss 0.0022, Validation loss 0.0023\n",
      "Epoch 7700, Training loss 0.0020, Validation loss 0.0021\n",
      "Epoch 7800, Training loss 0.0019, Validation loss 0.0020\n",
      "Epoch 7900, Training loss 0.0019, Validation loss 0.0019\n",
      "Epoch 8000, Training loss 0.0018, Validation loss 0.0018\n",
      "Epoch 8100, Training loss 0.0018, Validation loss 0.0018\n",
      "Epoch 8200, Training loss 0.0018, Validation loss 0.0018\n",
      "Epoch 8300, Training loss 0.0018, Validation loss 0.0018\n",
      "Epoch 8400, Training loss 0.0018, Validation loss 0.0018\n",
      "Epoch 8500, Training loss 0.0018, Validation loss 0.0018\n",
      "Epoch 8600, Training loss 0.0018, Validation loss 0.0018\n",
      "Epoch 8700, Training loss 0.0018, Validation loss 0.0018\n",
      "Epoch 8800, Training loss 0.0018, Validation loss 0.0018\n",
      "Epoch 8900, Training loss 0.0018, Validation loss 0.0018\n",
      "Epoch 9000, Training loss 0.0018, Validation loss 0.0018\n",
      "Epoch 9100, Training loss 0.0018, Validation loss 0.0018\n",
      "Epoch 9200, Training loss 0.0018, Validation loss 0.0018\n",
      "Epoch 9300, Training loss 0.0018, Validation loss 0.0018\n",
      "Epoch 9400, Training loss 0.0018, Validation loss 0.0018\n",
      "Epoch 9500, Training loss 0.0018, Validation loss 0.0018\n",
      "Epoch 9600, Training loss 0.0018, Validation loss 0.0018\n",
      "Epoch 9700, Training loss 0.0018, Validation loss 0.0018\n",
      "Epoch 9800, Training loss 0.0018, Validation loss 0.0018\n",
      "Epoch 9900, Training loss 0.0018, Validation loss 0.0018\n",
      "Epoch 10000, Training loss 0.0018, Validation loss 0.0018\n"
     ]
    },
    {
     "data": {
      "application/javascript": [
       "\n",
       "            setTimeout(function() {\n",
       "                var nbb_cell_id = 109;\n",
       "                var nbb_unformatted_code = \"# X is celcius and Y is farenight\\ntraining_loop(\\n    n_epochs=10000,\\n    optimizer=optimizer,\\n    model=linear_model,\\n    loss_fn=nn.MSELoss(),\\n    t_c_train=n_train_c,\\n    t_f_train=train_f,\\n    t_c_val=n_val_c,\\n    t_f_val=val_f,\\n)\";\n",
       "                var nbb_formatted_code = \"# X is celcius and Y is farenight\\ntraining_loop(\\n    n_epochs=10000,\\n    optimizer=optimizer,\\n    model=linear_model,\\n    loss_fn=nn.MSELoss(),\\n    t_c_train=n_train_c,\\n    t_f_train=train_f,\\n    t_c_val=n_val_c,\\n    t_f_val=val_f,\\n)\";\n",
       "                var nbb_cells = Jupyter.notebook.get_cells();\n",
       "                for (var i = 0; i < nbb_cells.length; ++i) {\n",
       "                    if (nbb_cells[i].input_prompt_number == nbb_cell_id) {\n",
       "                        if (nbb_cells[i].get_text() == nbb_unformatted_code) {\n",
       "                             nbb_cells[i].set_text(nbb_formatted_code);\n",
       "                        }\n",
       "                        break;\n",
       "                    }\n",
       "                }\n",
       "            }, 500);\n",
       "            "
      ],
      "text/plain": [
       "<IPython.core.display.Javascript object>"
      ]
     },
     "metadata": {},
     "output_type": "display_data"
    }
   ],
   "source": [
    "# X is celcius and Y is farenight\n",
    "training_loop(\n",
    "    n_epochs=10000,\n",
    "    optimizer=optimizer,\n",
    "    model=linear_model,\n",
    "    loss_fn=nn.MSELoss(),\n",
    "    t_c_train=n_train_c,\n",
    "    t_f_train=train_f,\n",
    "    t_c_val=n_val_c,\n",
    "    t_f_val=val_f,\n",
    ")"
   ]
  },
  {
   "cell_type": "code",
   "execution_count": 112,
   "metadata": {
    "scrolled": true
   },
   "outputs": [
    {
     "name": "stdout",
     "output_type": "stream",
     "text": [
      "Weight: 4499.8544921875\n",
      "Bias: 32.073486328125\n"
     ]
    },
    {
     "data": {
      "text/plain": [
       "(4500, 32)"
      ]
     },
     "execution_count": 112,
     "metadata": {},
     "output_type": "execute_result"
    },
    {
     "data": {
      "application/javascript": [
       "\n",
       "            setTimeout(function() {\n",
       "                var nbb_cell_id = 112;\n",
       "                var nbb_unformatted_code = \"w,b = print_model_summary(linear_model)\\nw,b\";\n",
       "                var nbb_formatted_code = \"w, b = print_model_summary(linear_model)\\nw, b\";\n",
       "                var nbb_cells = Jupyter.notebook.get_cells();\n",
       "                for (var i = 0; i < nbb_cells.length; ++i) {\n",
       "                    if (nbb_cells[i].input_prompt_number == nbb_cell_id) {\n",
       "                        if (nbb_cells[i].get_text() == nbb_unformatted_code) {\n",
       "                             nbb_cells[i].set_text(nbb_formatted_code);\n",
       "                        }\n",
       "                        break;\n",
       "                    }\n",
       "                }\n",
       "            }, 500);\n",
       "            "
      ],
      "text/plain": [
       "<IPython.core.display.Javascript object>"
      ]
     },
     "metadata": {},
     "output_type": "display_data"
    }
   ],
   "source": [
    "w, b = print_model_summary(linear_model)\n",
    "w, b"
   ]
  },
  {
   "cell_type": "code",
   "execution_count": 147,
   "metadata": {},
   "outputs": [
    {
     "data": {
      "application/javascript": [
       "\n",
       "            setTimeout(function() {\n",
       "                var nbb_cell_id = 147;\n",
       "                var nbb_unformatted_code = \"test_scale = MinMaxScaler()\\ntest_df[\\\"scaled_celsius\\\"] = test_scale.fit_transform(\\n    np.array(test_df[\\\"Celsius\\\"]).reshape(-1, 1)\\n)\";\n",
       "                var nbb_formatted_code = \"test_scale = MinMaxScaler()\\ntest_df[\\\"scaled_celsius\\\"] = test_scale.fit_transform(\\n    np.array(test_df[\\\"Celsius\\\"]).reshape(-1, 1)\\n)\";\n",
       "                var nbb_cells = Jupyter.notebook.get_cells();\n",
       "                for (var i = 0; i < nbb_cells.length; ++i) {\n",
       "                    if (nbb_cells[i].input_prompt_number == nbb_cell_id) {\n",
       "                        if (nbb_cells[i].get_text() == nbb_unformatted_code) {\n",
       "                             nbb_cells[i].set_text(nbb_formatted_code);\n",
       "                        }\n",
       "                        break;\n",
       "                    }\n",
       "                }\n",
       "            }, 500);\n",
       "            "
      ],
      "text/plain": [
       "<IPython.core.display.Javascript object>"
      ]
     },
     "metadata": {},
     "output_type": "display_data"
    }
   ],
   "source": [
    "test_scale = MinMaxScaler()\n",
    "test_df[\"scaled_celsius\"] = test_scale.fit_transform(\n",
    "    np.array(test_df[\"Celsius\"]).reshape(-1, 1)\n",
    ")"
   ]
  },
  {
   "cell_type": "code",
   "execution_count": 149,
   "metadata": {},
   "outputs": [
    {
     "data": {
      "application/javascript": [
       "\n",
       "            setTimeout(function() {\n",
       "                var nbb_cell_id = 149;\n",
       "                var nbb_unformatted_code = \"test_df[\\\"Fahrenheit\\\"] = w * test_cel + b\";\n",
       "                var nbb_formatted_code = \"test_df[\\\"Fahrenheit\\\"] = w * test_cel + b\";\n",
       "                var nbb_cells = Jupyter.notebook.get_cells();\n",
       "                for (var i = 0; i < nbb_cells.length; ++i) {\n",
       "                    if (nbb_cells[i].input_prompt_number == nbb_cell_id) {\n",
       "                        if (nbb_cells[i].get_text() == nbb_unformatted_code) {\n",
       "                             nbb_cells[i].set_text(nbb_formatted_code);\n",
       "                        }\n",
       "                        break;\n",
       "                    }\n",
       "                }\n",
       "            }, 500);\n",
       "            "
      ],
      "text/plain": [
       "<IPython.core.display.Javascript object>"
      ]
     },
     "metadata": {},
     "output_type": "display_data"
    }
   ],
   "source": [
    "test_df[\"Fahrenheit\"] = w * test_cel + b"
   ]
  },
  {
   "cell_type": "code",
   "execution_count": 167,
   "metadata": {},
   "outputs": [
    {
     "data": {
      "image/png": "[encoded data removed]",
      "text/plain": [
       "<Figure size 720x576 with 1 Axes>"
      ]
     },
     "metadata": {
      "needs_background": "light"
     },
     "output_type": "display_data"
    },
    {
     "data": {
      "application/javascript": [
       "\n",
       "            setTimeout(function() {\n",
       "                var nbb_cell_id = 167;\n",
       "                var nbb_unformatted_code = \"points_to_display = 50\\n\\nplt.figure(figsize=((10, 8)))\\nplt.xlim([0, 1])\\nplt.ylim([test_df[\\\"Fahrenheit\\\"].min() - 10, test_df[\\\"Fahrenheit\\\"].max() + 10])\\n\\nplt.scatter(\\n    test_df[\\\"scaled_celsius\\\"][:points_to_display],\\n    test_df[\\\"Fahrenheit\\\"][:points_to_display],\\n)\\ny = w * x + b\\nplt.plot(x, y, \\\"-r\\\")\\n\\nplt.title(\\\"Celsius to Fahrenheit Epochs 10000\\\")\\nplt.xlabel(\\\"Celsius\\\", color=\\\"#1C2833\\\")\\nplt.ylabel(\\\"Fahrenheit\\\", color=\\\"#1C2833\\\")\\n\\nplt.show()\";\n",
       "                var nbb_formatted_code = \"points_to_display = 50\\n\\nplt.figure(figsize=((10, 8)))\\nplt.xlim([0, 1])\\nplt.ylim([test_df[\\\"Fahrenheit\\\"].min() - 10, test_df[\\\"Fahrenheit\\\"].max() + 10])\\n\\nplt.scatter(\\n    test_df[\\\"scaled_celsius\\\"][:points_to_display],\\n    test_df[\\\"Fahrenheit\\\"][:points_to_display],\\n)\\ny = w * x + b\\nplt.plot(x, y, \\\"-r\\\")\\n\\nplt.title(\\\"Celsius to Fahrenheit Epochs 10000\\\")\\nplt.xlabel(\\\"Celsius\\\", color=\\\"#1C2833\\\")\\nplt.ylabel(\\\"Fahrenheit\\\", color=\\\"#1C2833\\\")\\n\\nplt.show()\";\n",
       "                var nbb_cells = Jupyter.notebook.get_cells();\n",
       "                for (var i = 0; i < nbb_cells.length; ++i) {\n",
       "                    if (nbb_cells[i].input_prompt_number == nbb_cell_id) {\n",
       "                        if (nbb_cells[i].get_text() == nbb_unformatted_code) {\n",
       "                             nbb_cells[i].set_text(nbb_formatted_code);\n",
       "                        }\n",
       "                        break;\n",
       "                    }\n",
       "                }\n",
       "            }, 500);\n",
       "            "
      ],
      "text/plain": [
       "<IPython.core.display.Javascript object>"
      ]
     },
     "metadata": {},
     "output_type": "display_data"
    }
   ],
   "source": [
    "points_to_display = 50\n",
    "\n",
    "plt.figure(figsize=((10, 8)))\n",
    "plt.xlim([0, 1])\n",
    "plt.ylim([test_df[\"Fahrenheit\"].min() - 10, test_df[\"Fahrenheit\"].max() + 10])\n",
    "\n",
    "plt.scatter(\n",
    "    test_df[\"scaled_celsius\"][:points_to_display],\n",
    "    test_df[\"Fahrenheit\"][:points_to_display],\n",
    ")\n",
    "y = w * x + b\n",
    "plt.plot(x, y, \"-r\")\n",
    "\n",
    "plt.title(\"Celsius to Fahrenheit Epochs 10000\")\n",
    "plt.xlabel(\"Celsius\", color=\"#1C2833\")\n",
    "plt.ylabel(\"Fahrenheit\", color=\"#1C2833\")\n",
    "\n",
    "plt.show()"
   ]
  }
 ],
 "metadata": {
  "kernelspec": {
   "display_name": "Python3 torch",
   "language": "python",
   "name": "torch"
  },
  "language_info": {
   "codemirror_mode": {
    "name": "ipython",
    "version": 3
   },
   "file_extension": ".py",
   "mimetype": "text/x-python",
   "name": "python",
   "nbconvert_exporter": "python",
   "pygments_lexer": "ipython3",
   "version": "3.8.10"
  }
 },
 "nbformat": 4,
 "nbformat_minor": 4
}
